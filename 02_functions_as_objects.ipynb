{
 "cells": [
  {
   "cell_type": "markdown",
   "metadata": {},
   "source": [
    "## The function object <br>\n",
    "Uses stack memory/LIFO/local variables."
   ]
  },
  {
   "cell_type": "code",
   "execution_count": 2,
   "metadata": {},
   "outputs": [
    {
     "name": "stdout",
     "output_type": "stream",
     "text": [
      "3\n"
     ]
    }
   ],
   "source": [
    "def sum(a,b):\n",
    "    c = a + b\n",
    "    return c\n",
    "\n",
    "print( sum(1,2))"
   ]
  },
  {
   "cell_type": "markdown",
   "metadata": {},
   "source": [
    "**Pass by object References**"
   ]
  },
  {
   "cell_type": "code",
   "execution_count": 3,
   "metadata": {},
   "outputs": [],
   "source": [
    "\n",
    "class MyClass(object):\n",
    "    a = 0\n",
    "    \n",
    "def myFunction(x):\n",
    "    x = 1\n",
    "    print(x)"
   ]
  },
  {
   "cell_type": "code",
   "execution_count": 4,
   "metadata": {},
   "outputs": [
    {
     "name": "stdout",
     "output_type": "stream",
     "text": [
      "1\n",
      "0\n"
     ]
    }
   ],
   "source": [
    "myFunction(MyClass)\n",
    "print(MyClass.a)"
   ]
  },
  {
   "cell_type": "markdown",
   "metadata": {},
   "source": [
    "Observation: MyClass copied into x and overwritten by a reference to an integer object.<br>\n",
    "Still x prints 1 due to local table/LIFO or changes to parameters within functions have no effect on variables in the calling code."
   ]
  },
  {
   "cell_type": "code",
   "execution_count": 6,
   "metadata": {},
   "outputs": [
    {
     "name": "stdout",
     "output_type": "stream",
     "text": [
      "2\n",
      "2\n"
     ]
    }
   ],
   "source": [
    "def myFunction(x):\n",
    "    x.a = 2\n",
    "    print(x.a)\n",
    "    \n",
    "myFunction(MyClass)\n",
    "print(MyClass.a)"
   ]
  },
  {
   "cell_type": "markdown",
   "metadata": {},
   "source": [
    "ref in MyClass is copied into x, but x.a is attribute of the same object changed 2."
   ]
  },
  {
   "cell_type": "markdown",
   "metadata": {},
   "source": [
    "## why functions are objects ? <br>\n",
    "1. can pass function as argument. <br>\n",
    "2. can function return function from another function. <br>\n",
    "\n",
    "For examples, Decorators"
   ]
  },
  {
   "cell_type": "code",
   "execution_count": 7,
   "metadata": {},
   "outputs": [
    {
     "name": "stdout",
     "output_type": "stream",
     "text": [
      "3\n"
     ]
    }
   ],
   "source": [
    "def math(f, a,b ):\n",
    "    return f(a,b)\n",
    "\n",
    "sum.myAttribute = 1\n",
    "print(math(sum,1,2))"
   ]
  },
  {
   "cell_type": "markdown",
   "metadata": {},
   "source": [
    "## Lambda function <br>\n",
    "Just like Pre-processor in C/C++<br>\n",
    "Drawback: hard to debug<br>\n",
    "\n"
   ]
  },
  {
   "cell_type": "code",
   "execution_count": 10,
   "metadata": {},
   "outputs": [
    {
     "name": "stdout",
     "output_type": "stream",
     "text": [
      "3\n"
     ]
    }
   ],
   "source": [
    "print(math(lambda a,b: a+b, 1,2))"
   ]
  },
  {
   "cell_type": "code",
   "execution_count": 19,
   "metadata": {},
   "outputs": [
    {
     "data": {
      "text/plain": [
       "'12'"
      ]
     },
     "execution_count": 19,
     "metadata": {},
     "output_type": "execute_result"
    }
   ],
   "source": [
    "a = \" this is number: 12\"\n",
    "\n",
    "''.join( list( filter(lambda a: a.isdigit(),a) ) )"
   ]
  },
  {
   "cell_type": "code",
   "execution_count": 23,
   "metadata": {},
   "outputs": [
    {
     "name": "stdout",
     "output_type": "stream",
     "text": [
      "<class 'tuple'>\n",
      "<class 'dict'>\n"
     ]
    }
   ],
   "source": [
    "def sum(*args, **kwargs):\n",
    "    print(type(args))\n",
    "    print(type(kwargs))\n",
    "    \n",
    "  \n",
    "\n",
    "d = { 'a':1, 'b': 2}\n",
    "sum(l, d)"
   ]
  },
  {
   "cell_type": "code",
   "execution_count": 25,
   "metadata": {},
   "outputs": [
    {
     "name": "stdout",
     "output_type": "stream",
     "text": [
      "<class 'tuple'>\n",
      "(5, 6)\n"
     ]
    }
   ],
   "source": [
    "# return more one variables\n",
    "\n",
    "def arith(a,b):\n",
    "    total = a + b\n",
    "    product = a * b\n",
    "    return (total, product)\n",
    "\n",
    "output = arith( 2, 3 )\n",
    "\n",
    "print( type(output) )\n",
    "print( output )"
   ]
  },
  {
   "cell_type": "markdown",
   "metadata": {},
   "source": [
    "## docstrings and annotations"
   ]
  },
  {
   "cell_type": "code",
   "execution_count": 26,
   "metadata": {},
   "outputs": [
    {
     "name": "stdout",
     "output_type": "stream",
     "text": [
      "this is docstrings\n"
     ]
    }
   ],
   "source": [
    "def myfunc():\n",
    "    \"this is docstrings\"\n",
    "    \n",
    "print(myfunc.__doc__)"
   ]
  },
  {
   "cell_type": "code",
   "execution_count": 30,
   "metadata": {},
   "outputs": [
    {
     "data": {
      "text/plain": [
       "{'a': int, 'b': 'the second parameter', 'return': int}"
      ]
     },
     "execution_count": 30,
     "metadata": {},
     "output_type": "execute_result"
    }
   ],
   "source": [
    "# Annotations used to indication of the type of the parameter passed or returned\n",
    "def fun( a:int, b:\"the second parameter\")->int:\n",
    "    pass\n",
    "\n",
    "fun.__annotations__"
   ]
  },
  {
   "cell_type": "markdown",
   "metadata": {},
   "source": [
    "## Class Constructors<br>\n",
    "\n",
    "returns instance of the class or creates an object;"
   ]
  },
  {
   "cell_type": "code",
   "execution_count": 39,
   "metadata": {},
   "outputs": [
    {
     "data": {
      "text/plain": [
       "1"
      ]
     },
     "execution_count": 39,
     "metadata": {},
     "output_type": "execute_result"
    }
   ],
   "source": [
    "class myClass:\n",
    "    myAttribute = 1\n",
    "    \n",
    "myobject = myClass()\n",
    "myClass.myAttribute"
   ]
  },
  {
   "cell_type": "markdown",
   "metadata": {},
   "source": [
    "## static methods and class methods<br>\n",
    "\n",
    "static methods stops conversion of a function to a method and belongs to class.\n"
   ]
  },
  {
   "cell_type": "code",
   "execution_count": 51,
   "metadata": {},
   "outputs": [
    {
     "name": "stdout",
     "output_type": "stream",
     "text": [
      "1\n",
      "2\n"
     ]
    }
   ],
   "source": [
    "# static methods are belongs to class and doesn't use the object itself at all.\n",
    "# \n",
    "\n",
    "class myClass:\n",
    "    @staticmethod\n",
    "    def myfunc(count):\n",
    "        print(count)\n",
    "        \n",
    "myobject = myClass()\n",
    "myobject.myfunc(1)\n",
    "myobject.myfunc(2)\n",
    "\n"
   ]
  },
  {
   "cell_type": "code",
   "execution_count": 52,
   "metadata": {},
   "outputs": [
    {
     "ename": "TypeError",
     "evalue": "myfunc() takes 1 positional argument but 2 were given",
     "output_type": "error",
     "traceback": [
      "\u001b[1;31m---------------------------------------------------------------------------\u001b[0m",
      "\u001b[1;31mTypeError\u001b[0m                                 Traceback (most recent call last)",
      "\u001b[1;32m<ipython-input-52-8e566258d033>\u001b[0m in \u001b[0;36m<module>\u001b[1;34m\u001b[0m\n\u001b[0;32m      5\u001b[0m \u001b[1;33m\u001b[0m\u001b[0m\n\u001b[0;32m      6\u001b[0m \u001b[0mmyobject\u001b[0m \u001b[1;33m=\u001b[0m \u001b[0mmyClass\u001b[0m\u001b[1;33m(\u001b[0m\u001b[1;33m)\u001b[0m\u001b[1;33m\u001b[0m\u001b[1;33m\u001b[0m\u001b[0m\n\u001b[1;32m----> 7\u001b[1;33m \u001b[0mmyobject\u001b[0m\u001b[1;33m.\u001b[0m\u001b[0mmyfunc\u001b[0m\u001b[1;33m(\u001b[0m\u001b[1;36m1\u001b[0m\u001b[1;33m)\u001b[0m\u001b[1;33m\u001b[0m\u001b[1;33m\u001b[0m\u001b[0m\n\u001b[0m\u001b[0;32m      8\u001b[0m \u001b[0mmyobject\u001b[0m\u001b[1;33m.\u001b[0m\u001b[0mmyfunc\u001b[0m\u001b[1;33m(\u001b[0m\u001b[1;36m2\u001b[0m\u001b[1;33m)\u001b[0m\u001b[1;33m\u001b[0m\u001b[1;33m\u001b[0m\u001b[0m\n",
      "\u001b[1;31mTypeError\u001b[0m: myfunc() takes 1 positional argument but 2 were given"
     ]
    }
   ],
   "source": [
    "class myClass:\n",
    "    myAttrbute = 0\n",
    "    def myfunc(count):\n",
    "        print(myClass.myAttrbute)\n",
    "        \n",
    "myobject = myClass()\n",
    "myobject.myfunc(1)\n",
    "myobject.myfunc(2)"
   ]
  },
  {
   "cell_type": "code",
   "execution_count": 55,
   "metadata": {},
   "outputs": [
    {
     "name": "stdout",
     "output_type": "stream",
     "text": [
      "1\n",
      "0\n",
      "2\n",
      "0\n"
     ]
    }
   ],
   "source": [
    "# class methods used to implement custom constructors or object factories;\n",
    "\n",
    "class myClass:\n",
    "    myAttribute = 0\n",
    "    @classmethod\n",
    "    def myfun(klass, count):\n",
    "        print(count)\n",
    "        print(klass.myAttribute)\n",
    "        \n",
    "        \n",
    "myobject = myClass()\n",
    "myobject.myfun(1)\n",
    "myobject.myfun(2)"
   ]
  },
  {
   "cell_type": "markdown",
   "metadata": {},
   "source": [
    "## Initializer __init__ <br>\n",
    "which defines data attributes added to the instance and not to the class and it doesn't actually create an instance."
   ]
  },
  {
   "cell_type": "code",
   "execution_count": 56,
   "metadata": {},
   "outputs": [
    {
     "data": {
      "text/plain": [
       "<__main__.Cperson at 0x273a152ffd0>"
      ]
     },
     "execution_count": 56,
     "metadata": {},
     "output_type": "execute_result"
    }
   ],
   "source": [
    "class Cperson(object):\n",
    "    def __init__(self,first, second):\n",
    "        self.first = first\n",
    "        self.second = second\n",
    "        \n",
    "person = Cperson('mickey','mouse')\n",
    "person"
   ]
  },
  {
   "cell_type": "markdown",
   "metadata": {},
   "source": [
    "## Deck of cards"
   ]
  },
  {
   "cell_type": "code",
   "execution_count": 1,
   "metadata": {},
   "outputs": [],
   "source": [
    "import random"
   ]
  },
  {
   "cell_type": "code",
   "execution_count": null,
   "metadata": {},
   "outputs": [],
   "source": [
    "class Card(object):\n",
    "    \n",
    "    suit_names = [ 'clubs', 'diamonds', 'hearts', 'spades' ]\n",
    "    rank_names = [ None, 'ace', '2', '3', '4', '5', '6', '7', '8', '9', '10', 'jack', 'queen', 'king' ]\n",
    "    \n",
    "    def __init__(self, suit, rank=2):\n",
    "        self.suit = suit\n",
    "        self.rank = rank\n",
    "    \n",
    "    def __str__(self):\n",
    "        return '%s %s'%(Card.rank_names[self.rank], Card[self.suit] )\n",
    "    \n",
    "    def __cmp__(self, other):\n",
    "        '''\n",
    "        compare this card to other, first by suit, then rank;\n",
    "        returns a positive number if this > other; negative if other > this \n",
    "        '''\n",
    "        t1 = self.suit, self.rank\n",
    "        t2 = other.suit, other.rank\n",
    "        return cmp(t1, t2)\n",
    "    \n",
    "class Deck(object):\n",
    "    \n",
    "    def __init__(self):\n",
    "        self.cards =  []\n",
    "        for suit in range(4):\n",
    "            for rank in range(1, 14):\n",
    "                card = Card(suit, rank)\n",
    "                self.cards.append(card)\n",
    "                \n",
    "    def __str__(self):\n",
    "        res = []\n",
    "        for card in range(4):\n",
    "            res.append(str(card))\n",
    "        return '\\n'.join(res)\n",
    "    \n",
    "    def add_card(self, card):\n",
    "        ''' adds a card to the deck '''\n",
    "        self.cards.append(card)\n",
    "    def remove_card(self, card):\n",
    "        self.cards.append(card)\n",
    "    \n",
    "    def pop_card(self, i=-1 ):\n",
    "        self.cards.pop(i)\n",
    "        \n",
    "    def shuffle(self):\n",
    "        random.shuffle(self.cards)\n",
    "        \n",
    "    def sort(self):\n",
    "        self.cards.sort()\n",
    "    def move_cards(self, hand, num):\n",
    "        '''\n",
    "        Move the given number of cards from deck into the hand.\n",
    "        '''\n",
    "        for i in range(num):\n",
    "            hand.add_card(self.pop_card() )\n",
    "            \n",
    "\n",
    "        \n",
    "    \n",
    "    \n",
    "        "
   ]
  }
 ],
 "metadata": {
  "kernelspec": {
   "display_name": "Python 3",
   "language": "python",
   "name": "python3"
  },
  "language_info": {
   "codemirror_mode": {
    "name": "ipython",
    "version": 3
   },
   "file_extension": ".py",
   "mimetype": "text/x-python",
   "name": "python",
   "nbconvert_exporter": "python",
   "pygments_lexer": "ipython3",
   "version": "3.7.1"
  }
 },
 "nbformat": 4,
 "nbformat_minor": 2
}

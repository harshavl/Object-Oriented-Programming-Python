{
 "cells": [
  {
   "cell_type": "markdown",
   "metadata": {},
   "source": []
  },
  {
   "cell_type": "markdown",
   "metadata": {},
   "source": [
    "1. Encapsulation: data + fuctions.<br>\n",
    "\n",
    "2. Abstraction: Providing only essentials information about the data to the outside world. **Hiding the background details** while implementation.<br>\n",
    "for example, A Car, Engine or machine or flow of the engine are hidden. Only How to drive the car. Stiring, break.<br>\n",
    "\n",
    "3. Inheritnace: while enhancement the source code. Use the Old Class code.<br>\n",
    "Class A ( Grand father ) -> Class B ( Father ) -> Class C ( Child ).<br>\n",
    "\n",
    "4. Polymorphism = many forms means ability of an object to take on many forms.<br>\n",
    "Example, Operator Overloading, + add for int, str or objects.\n"
   ]
  },
  {
   "cell_type": "code",
   "execution_count": 3,
   "metadata": {},
   "outputs": [
    {
     "name": "stdout",
     "output_type": "stream",
     "text": [
      "someName\n",
      "harsha\n"
     ]
    }
   ],
   "source": [
    "\n",
    "class Student:\n",
    "    def __init__(self):\n",
    "        self.name = \"harsha\" # default name\n",
    "        self.age = 20\n",
    "        self.marks = 95\n",
    "        \n",
    "    def talk(self):\n",
    "        print(\"Name:\", self.name )\n",
    "        print(\"Age:\", self.age )\n",
    "        print(\"Marks:\", self.marks )\n",
    "        \n",
    "        \n",
    "# main\n",
    "s1 = Student()\n",
    "s1.name = \"someName\" # can replace the name\n",
    "print(s1.name)\n",
    "        \n",
    "    \n",
    "s2 = Student()\n",
    "print( s2.name ) # default name"
   ]
  },
  {
   "cell_type": "code",
   "execution_count": 4,
   "metadata": {},
   "outputs": [],
   "source": [
    "# what is self and __init__\n",
    "\n"
   ]
  },
  {
   "cell_type": "code",
   "execution_count": 6,
   "metadata": {},
   "outputs": [],
   "source": [
    "# Defining multiple Constructors in python ?\n",
    "\n"
   ]
  },
  {
   "cell_type": "code",
   "execution_count": 12,
   "metadata": {},
   "outputs": [],
   "source": [
    "\n",
    "class Student:\n",
    "    def __init__(self, n):\n",
    "        self.name = n\n",
    "        \n",
    "    def __init__(self):\n",
    "        print(\"2nd __init__ method\")\n",
    "        \n",
    "    def display(self):\n",
    "        print(\"HI\", self.name )\n",
    "        \n",
    "        "
   ]
  },
  {
   "cell_type": "code",
   "execution_count": 13,
   "metadata": {},
   "outputs": [
    {
     "ename": "TypeError",
     "evalue": "__init__() takes 1 positional argument but 2 were given",
     "output_type": "error",
     "traceback": [
      "\u001b[1;31m---------------------------------------------------------------------------\u001b[0m",
      "\u001b[1;31mTypeError\u001b[0m                                 Traceback (most recent call last)",
      "\u001b[1;32m<ipython-input-13-cd9bb14b6b77>\u001b[0m in \u001b[0;36m<module>\u001b[1;34m\u001b[0m\n\u001b[1;32m----> 1\u001b[1;33m \u001b[0ms1\u001b[0m \u001b[1;33m=\u001b[0m \u001b[0mStudent\u001b[0m\u001b[1;33m(\u001b[0m\u001b[1;34m\"harsha\"\u001b[0m\u001b[1;33m)\u001b[0m\u001b[1;33m\u001b[0m\u001b[1;33m\u001b[0m\u001b[0m\n\u001b[0m\u001b[0;32m      2\u001b[0m \u001b[0ms1\u001b[0m\u001b[1;33m.\u001b[0m\u001b[0mdisplay\u001b[0m\u001b[1;33m(\u001b[0m\u001b[1;33m)\u001b[0m \u001b[1;31m# Observing: 1st __init__ NOT Calling; Make sure only Ctor\u001b[0m\u001b[1;33m\u001b[0m\u001b[1;33m\u001b[0m\u001b[0m\n",
      "\u001b[1;31mTypeError\u001b[0m: __init__() takes 1 positional argument but 2 were given"
     ]
    }
   ],
   "source": [
    "s1 = Student(\"harsha\")\n",
    "s1.display() # Observing: 1st __init__ NOT Calling; Make sure only Ctor"
   ]
  },
  {
   "cell_type": "code",
   "execution_count": 15,
   "metadata": {},
   "outputs": [
    {
     "name": "stdout",
     "output_type": "stream",
     "text": [
      "HI harsha\n"
     ]
    }
   ],
   "source": [
    "class Student:\n",
    "    def __init__(self, n):\n",
    "        self.name = n\n",
    "        \n",
    "    def display(self):\n",
    "        print(\"HI\", self.name )\n",
    "        \n",
    "s1 = Student(\"harsha\")\n",
    "s1.display()"
   ]
  },
  {
   "cell_type": "markdown",
   "metadata": {},
   "source": [
    "## Encapsulation;\n"
   ]
  },
  {
   "cell_type": "code",
   "execution_count": 16,
   "metadata": {},
   "outputs": [
    {
     "name": "stdout",
     "output_type": "stream",
     "text": [
      "60\n"
     ]
    }
   ],
   "source": [
    "\n",
    "class Speed:\n",
    "    def __init__(self):\n",
    "        self.speed = 10\n",
    "        \n",
    "    \n",
    "s = Speed()\n",
    "s.speed = 60\n",
    "print( s.speed ) # How to restrict access to object variables? Make Private variable"
   ]
  },
  {
   "cell_type": "code",
   "execution_count": 18,
   "metadata": {},
   "outputs": [
    {
     "ename": "AttributeError",
     "evalue": "'Speed' object has no attribute '_Speed__new_speed'",
     "output_type": "error",
     "traceback": [
      "\u001b[1;31m---------------------------------------------------------------------------\u001b[0m",
      "\u001b[1;31mAttributeError\u001b[0m                            Traceback (most recent call last)",
      "\u001b[1;32m<ipython-input-18-677eabc33944>\u001b[0m in \u001b[0;36m<module>\u001b[1;34m\u001b[0m\n\u001b[0;32m      5\u001b[0m \u001b[1;33m\u001b[0m\u001b[0m\n\u001b[0;32m      6\u001b[0m \u001b[1;33m\u001b[0m\u001b[0m\n\u001b[1;32m----> 7\u001b[1;33m \u001b[0ms\u001b[0m \u001b[1;33m=\u001b[0m \u001b[0mSpeed\u001b[0m\u001b[1;33m(\u001b[0m\u001b[1;33m)\u001b[0m\u001b[1;33m\u001b[0m\u001b[1;33m\u001b[0m\u001b[0m\n\u001b[0m\u001b[0;32m      8\u001b[0m \u001b[0ms\u001b[0m\u001b[1;33m.\u001b[0m\u001b[0mspeed\u001b[0m \u001b[1;33m=\u001b[0m \u001b[1;36m60\u001b[0m\u001b[1;33m\u001b[0m\u001b[1;33m\u001b[0m\u001b[0m\n\u001b[0;32m      9\u001b[0m \u001b[0mprint\u001b[0m\u001b[1;33m(\u001b[0m \u001b[0ms\u001b[0m\u001b[1;33m.\u001b[0m\u001b[0mspeed\u001b[0m \u001b[1;33m)\u001b[0m\u001b[1;33m\u001b[0m\u001b[1;33m\u001b[0m\u001b[0m\n",
      "\u001b[1;32m<ipython-input-18-677eabc33944>\u001b[0m in \u001b[0;36m__init__\u001b[1;34m(self)\u001b[0m\n\u001b[0;32m      2\u001b[0m     \u001b[1;32mdef\u001b[0m \u001b[0m__init__\u001b[0m\u001b[1;33m(\u001b[0m\u001b[0mself\u001b[0m\u001b[1;33m)\u001b[0m\u001b[1;33m:\u001b[0m\u001b[1;33m\u001b[0m\u001b[1;33m\u001b[0m\u001b[0m\n\u001b[0;32m      3\u001b[0m         \u001b[0mself\u001b[0m\u001b[1;33m.\u001b[0m\u001b[0mspeed\u001b[0m \u001b[1;33m=\u001b[0m \u001b[1;36m10\u001b[0m\u001b[1;33m\u001b[0m\u001b[1;33m\u001b[0m\u001b[0m\n\u001b[1;32m----> 4\u001b[1;33m         \u001b[0mself\u001b[0m\u001b[1;33m.\u001b[0m\u001b[0m__new_speed\u001b[0m \u001b[1;31m# private variable: only access within the class\u001b[0m\u001b[1;33m\u001b[0m\u001b[1;33m\u001b[0m\u001b[0m\n\u001b[0m\u001b[0;32m      5\u001b[0m \u001b[1;33m\u001b[0m\u001b[0m\n\u001b[0;32m      6\u001b[0m \u001b[1;33m\u001b[0m\u001b[0m\n",
      "\u001b[1;31mAttributeError\u001b[0m: 'Speed' object has no attribute '_Speed__new_speed'"
     ]
    }
   ],
   "source": [
    "\n",
    "\n",
    "class Speed:\n",
    "    def __init__(self):\n",
    "        self.speed = 10\n",
    "        self.__new_speed # private variable: only access within the class\n",
    "        \n",
    "    \n",
    "s = Speed()\n",
    "s.speed = 60\n",
    "print( s.speed )\n",
    "print( s.__new_speed )"
   ]
  },
  {
   "cell_type": "code",
   "execution_count": 23,
   "metadata": {},
   "outputs": [
    {
     "name": "stdout",
     "output_type": "stream",
     "text": [
      "60\n",
      "100\n"
     ]
    }
   ],
   "source": [
    "##  Can we modify private variables?\n",
    "\n",
    "\n",
    "class Speed:\n",
    "    def __init__(self):\n",
    "        self.speed = 10\n",
    "        self.__new_speed = 60  # private variable: only access within the class\n",
    "        \n",
    "    \n",
    "s = Speed()\n",
    "s.speed = 60\n",
    "print( s.speed )\n",
    "#print( s.__new_speed )\n",
    "\n",
    "s.__new_speed = 100\n",
    "print( s.__new_speed ) # Private variable can modify. But, not able to read. How to fix this ? \n"
   ]
  },
  {
   "cell_type": "code",
   "execution_count": 26,
   "metadata": {},
   "outputs": [
    {
     "name": "stdout",
     "output_type": "stream",
     "text": [
      "10\n",
      "60\n"
     ]
    }
   ],
   "source": [
    "# Using getter and setter;\n",
    "\n",
    "\n",
    "class Speed:\n",
    "    def __init__(self):\n",
    "        self.speed = 10\n",
    "        self.__new_speed = 60\n",
    "        \n",
    "    def get_new_speed(self):\n",
    "        return self.__new_speed\n",
    "    \n",
    "    \n",
    "s = Speed()\n",
    "print( s.speed )\n",
    "\n",
    "#print(s.__new_speed) # not able to access\n",
    "\n",
    "print( s.get_new_speed() ) # able to access using public functions;\n",
    "    "
   ]
  },
  {
   "cell_type": "code",
   "execution_count": 28,
   "metadata": {},
   "outputs": [
    {
     "name": "stdout",
     "output_type": "stream",
     "text": [
      "60\n",
      "100\n"
     ]
    }
   ],
   "source": [
    "class Speed:\n",
    "    def __init__(self):\n",
    "        self.speed = 10\n",
    "        self.__new_speed = 60\n",
    "        \n",
    "    def get_new_speed(self):\n",
    "        return self.__new_speed\n",
    "    \n",
    "    def set_new_speed(self, new_speed):\n",
    "        self.__new_speed = new_speed\n",
    "        \n",
    "        \n",
    "s = Speed()\n",
    "\n",
    "print(s.get_new_speed() )\n",
    "\n",
    "s.set_new_speed(100)\n",
    "print(s.get_new_speed() )\n",
    "\n"
   ]
  },
  {
   "cell_type": "code",
   "execution_count": 31,
   "metadata": {},
   "outputs": [
    {
     "name": "stdout",
     "output_type": "stream",
     "text": [
      "50\n"
     ]
    },
    {
     "ename": "AttributeError",
     "evalue": "'Example' object has no attribute '__z'",
     "output_type": "error",
     "traceback": [
      "\u001b[1;31m---------------------------------------------------------------------------\u001b[0m",
      "\u001b[1;31mAttributeError\u001b[0m                            Traceback (most recent call last)",
      "\u001b[1;32m<ipython-input-31-26767fbef3ac>\u001b[0m in \u001b[0;36m<module>\u001b[1;34m\u001b[0m\n\u001b[0;32m     10\u001b[0m \u001b[0ms\u001b[0m \u001b[1;33m=\u001b[0m \u001b[0mExample\u001b[0m\u001b[1;33m(\u001b[0m\u001b[1;33m)\u001b[0m\u001b[1;33m\u001b[0m\u001b[1;33m\u001b[0m\u001b[0m\n\u001b[0;32m     11\u001b[0m \u001b[0mprint\u001b[0m\u001b[1;33m(\u001b[0m\u001b[0ms\u001b[0m\u001b[1;33m.\u001b[0m\u001b[0m_y\u001b[0m\u001b[1;33m)\u001b[0m\u001b[1;33m\u001b[0m\u001b[1;33m\u001b[0m\u001b[0m\n\u001b[1;32m---> 12\u001b[1;33m \u001b[0mprint\u001b[0m\u001b[1;33m(\u001b[0m\u001b[0ms\u001b[0m\u001b[1;33m.\u001b[0m\u001b[0m__z\u001b[0m\u001b[1;33m)\u001b[0m\u001b[1;33m\u001b[0m\u001b[1;33m\u001b[0m\u001b[0m\n\u001b[0m",
      "\u001b[1;31mAttributeError\u001b[0m: 'Example' object has no attribute '__z'"
     ]
    }
   ],
   "source": [
    "# private methods\n",
    "\n",
    "class Example:\n",
    "    def __init__(self):\n",
    "        self.x = 10\n",
    "        self._y = 50\n",
    "        self.__z = 100\n",
    "        \n",
    "    \n",
    "s = Example()\n",
    "print(s._y)\n",
    "print(s.__z)"
   ]
  },
  {
   "cell_type": "code",
   "execution_count": 34,
   "metadata": {},
   "outputs": [
    {
     "name": "stdout",
     "output_type": "stream",
     "text": [
      "10\n",
      "50\n",
      "100\n"
     ]
    }
   ],
   "source": [
    "\n",
    "class Example:\n",
    "    def __init__(self):\n",
    "        self.x = 10\n",
    "        self._y = 50\n",
    "        self.__z = 100\n",
    "        \n",
    "    def public_method(self):\n",
    "        print(self.x)\n",
    "        print(self._y)\n",
    "        print(self.__z) # able access from public method\n",
    "        #self.__private_method()\n",
    "        \n",
    "    \n",
    "s = Example()\n",
    "s.public_method()\n"
   ]
  },
  {
   "cell_type": "code",
   "execution_count": 35,
   "metadata": {},
   "outputs": [
    {
     "ename": "AttributeError",
     "evalue": "'Example' object has no attribute '__private_method'",
     "output_type": "error",
     "traceback": [
      "\u001b[1;31m---------------------------------------------------------------------------\u001b[0m",
      "\u001b[1;31mAttributeError\u001b[0m                            Traceback (most recent call last)",
      "\u001b[1;32m<ipython-input-35-5f3c913bcb5a>\u001b[0m in \u001b[0;36m<module>\u001b[1;34m\u001b[0m\n\u001b[0;32m     18\u001b[0m \u001b[1;33m\u001b[0m\u001b[0m\n\u001b[0;32m     19\u001b[0m \u001b[0ms\u001b[0m \u001b[1;33m=\u001b[0m \u001b[0mExample\u001b[0m\u001b[1;33m(\u001b[0m\u001b[1;33m)\u001b[0m\u001b[1;33m\u001b[0m\u001b[1;33m\u001b[0m\u001b[0m\n\u001b[1;32m---> 20\u001b[1;33m \u001b[0ms\u001b[0m\u001b[1;33m.\u001b[0m\u001b[0m__private_method\u001b[0m\u001b[1;33m(\u001b[0m\u001b[1;33m)\u001b[0m\u001b[1;33m\u001b[0m\u001b[1;33m\u001b[0m\u001b[0m\n\u001b[0m\u001b[0;32m     21\u001b[0m \u001b[1;33m\u001b[0m\u001b[0m\n\u001b[0;32m     22\u001b[0m \u001b[1;33m\u001b[0m\u001b[0m\n",
      "\u001b[1;31mAttributeError\u001b[0m: 'Example' object has no attribute '__private_method'"
     ]
    }
   ],
   "source": [
    "# how to access private method\n",
    "\n",
    "class Example:\n",
    "    def __init__(self):\n",
    "        self.x = 10\n",
    "        self._y = 50\n",
    "        self.__z = 100\n",
    "        \n",
    "    def public_method(self):\n",
    "        print(self.x)\n",
    "        print(self._y)\n",
    "        print(self.__z) # able access from public method\n",
    "        #self.__private_method()\n",
    "        \n",
    "    def __private_method():\n",
    "        print(\"Inside private method\")\n",
    "        \n",
    "        \n",
    "s = Example()\n",
    "s.__private_method() # No Access !, how to access?\n",
    "       \n",
    "        "
   ]
  },
  {
   "cell_type": "code",
   "execution_count": 39,
   "metadata": {},
   "outputs": [
    {
     "name": "stdout",
     "output_type": "stream",
     "text": [
      "10\n",
      "50\n",
      "100\n",
      "Inside private method\n"
     ]
    }
   ],
   "source": [
    "class Example:\n",
    "    def __init__(self):\n",
    "        self.x = 10\n",
    "        self._y = 50\n",
    "        self.__z = 100\n",
    "        \n",
    "    def public_method(self):\n",
    "        print(self.x)\n",
    "        print(self._y)\n",
    "        print(self.__z) # able access from public method\n",
    "        self.__private_method()\n",
    "        \n",
    "    def __private_method(self):\n",
    "        print(\"Inside private method\")\n",
    "        \n",
    "        \n",
    "s = Example()\n",
    "#s.__private_method() # No Access !, how to access?\n",
    "s.public_method() # accessing Private function using public method\n",
    "        "
   ]
  },
  {
   "cell_type": "markdown",
   "metadata": {},
   "source": [
    "##  Inheritance <br>\n",
    "IS-A relation between the classes.<br>\n",
    "\n",
    "for example, Polygons -> square;<br>\n",
    "                       -> Triangle.<br>\n",
    "                      \n",
    "                      \n",
    " Square IS-A relation to Polygons."
   ]
  },
  {
   "cell_type": "code",
   "execution_count": 1,
   "metadata": {},
   "outputs": [],
   "source": [
    "\n",
    "class Polygon:\n",
    "    __width = None # due to accessing these variable using methods\n",
    "    __height = None\n",
    "    \n",
    "    def set_value( self, width, height ):\n",
    "        self.__width = width\n",
    "        self.__height = height\n",
    "        \n",
    "    def get_width(self):\n",
    "        return self.__width\n",
    "    \n",
    "    def get_height(self):\n",
    "        return self.__height\n",
    "    \n",
    "    "
   ]
  },
  {
   "cell_type": "code",
   "execution_count": 2,
   "metadata": {},
   "outputs": [],
   "source": [
    "# Access Polygon methods using Square;\n",
    "\n",
    "\n",
    "class Square(Polygon):\n",
    "    def area(self):\n",
    "        return self.get_width() * self.get_height()\n",
    "    "
   ]
  },
  {
   "cell_type": "code",
   "execution_count": 5,
   "metadata": {},
   "outputs": [
    {
     "name": "stdout",
     "output_type": "stream",
     "text": [
      "8\n"
     ]
    }
   ],
   "source": [
    "s1 = Square()\n",
    "s1.set_value(2, 4)\n",
    "\n",
    "print( s1.area() )"
   ]
  },
  {
   "cell_type": "code",
   "execution_count": 9,
   "metadata": {},
   "outputs": [],
   "source": [
    "# Lets create one more class triangle\n",
    "\n",
    "class Triangle(Polygon):\n",
    "    def area(self):\n",
    "        return self.get_width() * self.get_width() * 1/2\n",
    "    "
   ]
  },
  {
   "cell_type": "code",
   "execution_count": 10,
   "metadata": {},
   "outputs": [
    {
     "name": "stdout",
     "output_type": "stream",
     "text": [
      "2.0\n"
     ]
    }
   ],
   "source": [
    "t1 = Triangle()\n",
    "t1.set_value( 2,3 )\n",
    "\n",
    "print( t1.area() )"
   ]
  },
  {
   "cell_type": "markdown",
   "metadata": {},
   "source": [
    "## How to create modules?<br>\n",
    "os, sys."
   ]
  },
  {
   "cell_type": "code",
   "execution_count": 12,
   "metadata": {},
   "outputs": [
    {
     "name": "stdout",
     "output_type": "stream",
     "text": [
      "Writing mymath.py\n"
     ]
    }
   ],
   "source": [
    "%%writefile mymath.py\n",
    "\n",
    "def add(x, y):\n",
    "    return x + y\n",
    "\n",
    "\n",
    "def multiply(x, y ):\n",
    "    return x * y\n"
   ]
  },
  {
   "cell_type": "code",
   "execution_count": 14,
   "metadata": {},
   "outputs": [
    {
     "data": {
      "text/plain": [
       "3"
      ]
     },
     "execution_count": 14,
     "metadata": {},
     "output_type": "execute_result"
    }
   ],
   "source": [
    "# how to use mymath module\n",
    "\n",
    "import mymath\n",
    "\n",
    "result  = mymath.add( 1,2 )\n",
    "result"
   ]
  },
  {
   "cell_type": "code",
   "execution_count": 17,
   "metadata": {},
   "outputs": [
    {
     "data": {
      "text/plain": [
       "3"
      ]
     },
     "execution_count": 17,
     "metadata": {},
     "output_type": "execute_result"
    }
   ],
   "source": [
    "# one more way to import\n",
    "\n",
    "from mymath import add\n",
    "\n",
    "result  = add( 1,2 )\n",
    "result"
   ]
  },
  {
   "cell_type": "markdown",
   "metadata": {},
   "source": [
    "## Let's apply\n"
   ]
  },
  {
   "cell_type": "code",
   "execution_count": 18,
   "metadata": {},
   "outputs": [
    {
     "name": "stdout",
     "output_type": "stream",
     "text": [
      "Writing polygon.py\n"
     ]
    }
   ],
   "source": [
    "%%writefile polygon.py\n",
    "\n",
    "class Polygon:\n",
    "    __width = None # due to accessing these variable using methods\n",
    "    __height = None\n",
    "    \n",
    "    def set_value( self, width, height ):\n",
    "        self.__width = width\n",
    "        self.__height = height\n",
    "        \n",
    "    def get_width(self):\n",
    "        return self.__width\n",
    "    \n",
    "    def get_height(self):\n",
    "        return self.__height\n",
    "    "
   ]
  },
  {
   "cell_type": "code",
   "execution_count": 23,
   "metadata": {},
   "outputs": [
    {
     "name": "stdout",
     "output_type": "stream",
     "text": [
      "Overwriting square.py\n"
     ]
    }
   ],
   "source": [
    "%%writefile square.py\n",
    "\n",
    "from polygon import Polygon\n",
    "\n",
    "class Square(Polygon):\n",
    "    def area(self):\n",
    "        return self.get_width() * self.get_height()\n",
    "    "
   ]
  },
  {
   "cell_type": "code",
   "execution_count": 24,
   "metadata": {},
   "outputs": [
    {
     "name": "stdout",
     "output_type": "stream",
     "text": [
      "Overwriting triangle.py\n"
     ]
    }
   ],
   "source": [
    "%%writefile triangle.py\n",
    "\n",
    "from polygon import Polygon\n",
    "\n",
    "class Triangle(Polygon):\n",
    "    def area(self):\n",
    "        return self.get_width() * self.get_width() * 1/2"
   ]
  },
  {
   "cell_type": "code",
   "execution_count": 25,
   "metadata": {},
   "outputs": [
    {
     "name": "stdout",
     "output_type": "stream",
     "text": [
      "Overwriting main.py\n"
     ]
    }
   ],
   "source": [
    "%%writefile main.py\n",
    "\n",
    "from square import Square\n",
    "from triangle import Triangle\n",
    "\n",
    "s1 = Square()\n",
    "s1.set_value(3,4)\n",
    "print(s1.area())\n",
    "\n",
    "t1 = Triangle()\n",
    "t1.set_value(5,5)\n",
    "print(t1.area() )"
   ]
  },
  {
   "cell_type": "code",
   "execution_count": 26,
   "metadata": {},
   "outputs": [
    {
     "name": "stdout",
     "output_type": "stream",
     "text": [
      "12\n",
      "12.5\n"
     ]
    }
   ],
   "source": [
    "! python main.py"
   ]
  },
  {
   "cell_type": "markdown",
   "metadata": {},
   "source": [
    "## Multiple Inheritance<br>\n",
    "\n",
    "Multiple Base classes or inherit from the multiple bases classes.\n",
    "\n"
   ]
  },
  {
   "cell_type": "code",
   "execution_count": 35,
   "metadata": {},
   "outputs": [
    {
     "name": "stdout",
     "output_type": "stream",
     "text": [
      "Overwriting shape.py\n"
     ]
    }
   ],
   "source": [
    "%%writefile shape.py\n",
    "\n",
    "\n",
    "class Shape:\n",
    "    __color = None\n",
    "    \n",
    "    def set_color(self, color ):\n",
    "        self.__color = color\n",
    "        \n",
    "    def get_color(self ):\n",
    "        return self.__color\n",
    "    \n",
    "        "
   ]
  },
  {
   "cell_type": "code",
   "execution_count": 36,
   "metadata": {},
   "outputs": [
    {
     "name": "stdout",
     "output_type": "stream",
     "text": [
      "Overwriting square.py\n"
     ]
    }
   ],
   "source": [
    "%%writefile square.py\n",
    "\n",
    "# inherit Shape class also\n",
    "\n",
    "from polygon import Polygon\n",
    "from shape import Shape\n",
    "\n",
    "class Square(Polygon, Shape):\n",
    "    def area(self):\n",
    "        return self.get_width() * self.get_height()\n",
    "    "
   ]
  },
  {
   "cell_type": "code",
   "execution_count": 37,
   "metadata": {},
   "outputs": [
    {
     "name": "stdout",
     "output_type": "stream",
     "text": [
      "Overwriting triangle.py\n"
     ]
    }
   ],
   "source": [
    "%%writefile triangle.py\n",
    "\n",
    "from polygon import Polygon\n",
    "from shape import Shape\n",
    "\n",
    "class Triangle(Polygon,  Shape):\n",
    "    def area(self):\n",
    "        return self.get_width() * self.get_width() * 1/2\n",
    "    "
   ]
  },
  {
   "cell_type": "code",
   "execution_count": 38,
   "metadata": {},
   "outputs": [
    {
     "name": "stdout",
     "output_type": "stream",
     "text": [
      "Overwriting main.py\n"
     ]
    }
   ],
   "source": [
    "%%writefile main.py\n",
    "\n",
    "from square import Square\n",
    "from triangle import Triangle\n",
    "\n",
    "s1 = Square()\n",
    "s1.set_value(3,4)\n",
    "s1.set_color(\"Blue\")\n",
    "\n",
    "print(s1.area())\n",
    "\n",
    "t1 = Triangle()\n",
    "t1.set_value(5,5)\n",
    "t1.set_color(\"RED\")\n",
    "print(t1.area() )"
   ]
  },
  {
   "cell_type": "code",
   "execution_count": 39,
   "metadata": {},
   "outputs": [
    {
     "name": "stdout",
     "output_type": "stream",
     "text": [
      "12\n",
      "12.5\n"
     ]
    }
   ],
   "source": [
    "! python main.py"
   ]
  },
  {
   "cell_type": "markdown",
   "metadata": {},
   "source": [
    "## what is Super function ?"
   ]
  },
  {
   "cell_type": "code",
   "execution_count": 41,
   "metadata": {},
   "outputs": [],
   "source": [
    "# without super function;\n",
    "\n",
    "class Parent:\n",
    "    def __init__(self, name ):\n",
    "        print(\"Parent __init__\",name )\n",
    "        \n",
    "        \n",
    "class Child:\n",
    "    def __init__(self):\n",
    "        print(\"Child __init__\")"
   ]
  },
  {
   "cell_type": "code",
   "execution_count": 42,
   "metadata": {},
   "outputs": [
    {
     "name": "stdout",
     "output_type": "stream",
     "text": [
      "Child __init__\n"
     ]
    }
   ],
   "source": [
    "c = Child()\n"
   ]
  },
  {
   "cell_type": "markdown",
   "metadata": {},
   "source": [
    "## How to access variable in the Parent class ? Using Super function"
   ]
  },
  {
   "cell_type": "code",
   "execution_count": 49,
   "metadata": {},
   "outputs": [
    {
     "name": "stdout",
     "output_type": "stream",
     "text": [
      "Child __init__\n",
      "Parent __init__ Harsha\n"
     ]
    }
   ],
   "source": [
    "class Parent:\n",
    "    def __init__(self, name ):\n",
    "        print(\"Parent __init__\",name )\n",
    "        \n",
    "        \n",
    "class Child( Parent ):\n",
    "    def __init__(self):\n",
    "        print(\"Child __init__\")\n",
    "        Parent.__init__(self, \"Harsha\")\n",
    "        \n",
    "        \n",
    "c = Child()"
   ]
  },
  {
   "cell_type": "markdown",
   "metadata": {},
   "source": [
    "## what is Super ? replace Parent.__init__ ---> super().__init__<br>\n",
    "\n",
    "super() builtin returns a proxy object that allows you to refer parent class by 'super'."
   ]
  },
  {
   "cell_type": "code",
   "execution_count": 51,
   "metadata": {},
   "outputs": [
    {
     "name": "stdout",
     "output_type": "stream",
     "text": [
      "Child __init__\n",
      "Parent __init__ Harsha\n"
     ]
    }
   ],
   "source": [
    "class Parent:\n",
    "    def __init__(self, name ):\n",
    "        print(\"Parent __init__\",name )\n",
    "        \n",
    "        \n",
    "class Child( Parent ):\n",
    "    def __init__(self):\n",
    "        print(\"Child __init__\")\n",
    "        super().__init__(\"Harsha\")\n",
    "        \n",
    "c = Child()"
   ]
  },
  {
   "cell_type": "markdown",
   "metadata": {},
   "source": [
    "## mro -> method resolution order : sequence of calling an object;"
   ]
  },
  {
   "cell_type": "code",
   "execution_count": 53,
   "metadata": {},
   "outputs": [
    {
     "name": "stdout",
     "output_type": "stream",
     "text": [
      "Child __init__\n",
      "Parent __init__ Harsha\n",
      "(<class '__main__.Child'>, <class '__main__.Parent'>, <class 'object'>)\n"
     ]
    }
   ],
   "source": [
    "class Parent:\n",
    "    def __init__(self, name ):\n",
    "        print(\"Parent __init__\",name )\n",
    "        \n",
    "        \n",
    "class Child( Parent ):\n",
    "    def __init__(self):\n",
    "        print(\"Child __init__\")\n",
    "        super().__init__(\"Harsha\")\n",
    "        \n",
    "c = Child()\n",
    "print( Child.__mro__ ) # 1. child, 2. Parent\n"
   ]
  },
  {
   "cell_type": "code",
   "execution_count": 55,
   "metadata": {},
   "outputs": [
    {
     "name": "stdout",
     "output_type": "stream",
     "text": [
      "Child __init__\n",
      "Parent __init__ Harsha\n",
      "(<class '__main__.Child'>, <class '__main__.Parent'>, <class '__main__.Parent2'>, <class 'object'>)\n"
     ]
    }
   ],
   "source": [
    "# Lets have two parents\n",
    "\n",
    "\n",
    "class Parent:\n",
    "    def __init__(self, name ):\n",
    "        print(\"Parent __init__\",name )\n",
    "        \n",
    "        \n",
    "class Parent2:\n",
    "    def __init__( self, name ):\n",
    "        print(\"parent2 __init__\", name )\n",
    "        \n",
    "class Child( Parent , Parent2 ):\n",
    "    def __init__(self):\n",
    "        print(\"Child __init__\")\n",
    "        super().__init__(\"Harsha\")\n",
    "        \n",
    "c = Child()\n",
    "print( Child.__mro__ ) # 1. child, 2. Parent then, 3.Parent2\n",
    "\n"
   ]
  },
  {
   "cell_type": "code",
   "execution_count": 58,
   "metadata": {},
   "outputs": [
    {
     "name": "stdout",
     "output_type": "stream",
     "text": [
      "Child __init__\n",
      "parent2 __init__ Harsha\n",
      "(<class '__main__.Child'>, <class '__main__.Parent2'>, <class '__main__.Parent'>, <class 'object'>)\n"
     ]
    }
   ],
   "source": [
    "# Lets change the Order to Parent2 and Parent\n",
    "\n",
    "class Parent:\n",
    "    def __init__(self, name ):\n",
    "        print(\"Parent __init__\",name )\n",
    "        \n",
    "        \n",
    "class Parent2:\n",
    "    def __init__( self, name ):\n",
    "        print(\"parent2 __init__\", name )\n",
    "        \n",
    "class Child( Parent2 , Parent ):\n",
    "    def __init__(self):\n",
    "        print(\"Child __init__\")\n",
    "        super().__init__(\"Harsha\")\n",
    "        \n",
    "c = Child()\n",
    "print( Child.__mro__ ) # 1. child, 2. Parent2 then, 3.Parent; So, order matter;s"
   ]
  },
  {
   "cell_type": "code",
   "execution_count": 60,
   "metadata": {},
   "outputs": [
    {
     "name": "stdout",
     "output_type": "stream",
     "text": [
      "Child __init__\n",
      "Parent __init__ Harsha\n",
      "parent2 __init__ Yagnavalka\n",
      "(<class '__main__.Child'>, <class '__main__.Parent'>, <class '__main__.Parent2'>, <class 'object'>)\n"
     ]
    }
   ],
   "source": [
    "\n",
    "class Parent:\n",
    "    def __init__(self, name ):\n",
    "        print(\"Parent __init__\",name )\n",
    "        \n",
    "        \n",
    "class Parent2:\n",
    "    def __init__( self, name ):\n",
    "        print(\"parent2 __init__\", name )\n",
    "        \n",
    "class Child( Parent , Parent2 ):\n",
    "    def __init__(self):\n",
    "        print(\"Child __init__\")\n",
    "        super().__init__(\"Harsha\")\n",
    "        Parent2.__init__(self, \"Yagnavalka\")\n",
    "        \n",
    "c = Child()\n",
    "print( Child.__mro__ )\n"
   ]
  },
  {
   "cell_type": "markdown",
   "metadata": {},
   "source": [
    "## uses of super():<br>\n",
    "1. Allows us to avoid using base class explicitly ( Don't have direct access to Base class ).<br>\n",
    "2. Working with Multiple Inheritance."
   ]
  },
  {
   "cell_type": "markdown",
   "metadata": {},
   "source": [
    "\n",
    "# Composition\n",
    "Part of /  container - content. <br>\n",
    "\n",
    "for example, Library  has # of Books.<br>\n",
    "Books and Library are dependent or strong connection that's called Composition.\n"
   ]
  },
  {
   "cell_type": "code",
   "execution_count": 63,
   "metadata": {},
   "outputs": [
    {
     "ename": "TypeError",
     "evalue": "'Salary' object is not callable",
     "output_type": "error",
     "traceback": [
      "\u001b[1;31m---------------------------------------------------------------------------\u001b[0m",
      "\u001b[1;31mTypeError\u001b[0m                                 Traceback (most recent call last)",
      "\u001b[1;32m<ipython-input-63-80d8e1184d6f>\u001b[0m in \u001b[0;36m<module>\u001b[1;34m\u001b[0m\n\u001b[0;32m     19\u001b[0m \u001b[1;33m\u001b[0m\u001b[0m\n\u001b[0;32m     20\u001b[0m \u001b[0memp\u001b[0m \u001b[1;33m=\u001b[0m \u001b[0mEmployee\u001b[0m\u001b[1;33m(\u001b[0m\u001b[1;34m\"Harsha\"\u001b[0m\u001b[1;33m,\u001b[0m \u001b[1;34m\"Py Dev\"\u001b[0m\u001b[1;33m,\u001b[0m \u001b[1;36m800000\u001b[0m\u001b[1;33m,\u001b[0m \u001b[1;36m100\u001b[0m \u001b[1;33m)\u001b[0m\u001b[1;33m\u001b[0m\u001b[1;33m\u001b[0m\u001b[0m\n\u001b[1;32m---> 21\u001b[1;33m \u001b[0mprint\u001b[0m\u001b[1;33m(\u001b[0m \u001b[0memp\u001b[0m\u001b[1;33m.\u001b[0m\u001b[0mfinal_salary\u001b[0m\u001b[1;33m(\u001b[0m\u001b[1;33m)\u001b[0m \u001b[1;33m)\u001b[0m\u001b[1;33m\u001b[0m\u001b[1;33m\u001b[0m\u001b[0m\n\u001b[0m",
      "\u001b[1;31mTypeError\u001b[0m: 'Salary' object is not callable"
     ]
    }
   ],
   "source": [
    "\n",
    "class Salary:\n",
    "    def __init__(self, pay,reward ):\n",
    "        self.pay = pay\n",
    "        self.reward = reward\n",
    "        \n",
    "    def annual_salary(self):\n",
    "        return ( self.pay * 12 ) + self.reward\n",
    "    \n",
    "    \n",
    "class Employee:\n",
    "    def __init__(self, name, position, pay, reward ):\n",
    "        self.name = name\n",
    "        self.position = position\n",
    "        self.final_salary = Salary( pay, reward )\n",
    "        \n",
    "    def final_salary(self): # ERROR: due to attributes and method name are same;\n",
    "        return self.final_salary.annual_salary()\n",
    "    \n",
    "    \n",
    "emp = Employee(\"Harsha\", \"Py Dev\", 800000, 100 )\n",
    "print( emp.final_salary() )"
   ]
  },
  {
   "cell_type": "code",
   "execution_count": 67,
   "metadata": {},
   "outputs": [
    {
     "name": "stdout",
     "output_type": "stream",
     "text": [
      "600100\n"
     ]
    }
   ],
   "source": [
    "class Salary:\n",
    "    def __init__(self, pay,reward ):\n",
    "        self.pay = pay\n",
    "        self.reward = reward\n",
    "        \n",
    "    def annual_salary(self):\n",
    "        return ( self.pay * 12 ) + self.reward\n",
    "    \n",
    "    \n",
    "class Employee:\n",
    "    def __init__(self, name, position, pay, reward ):\n",
    "        self.name = name\n",
    "        self.position = position\n",
    "        self.final_salary = Salary( pay, reward ) # Composition syntax\n",
    "        \n",
    "    def final_salary_m(self): # ERROR: due to attributes and method name are same;\n",
    "        return self.final_salary.annual_salary()\n",
    "    \n",
    "    \n",
    "emp = Employee(\"Harsha\", \"Py Dev\", 50000, 100 )\n",
    "print( emp.final_salary_m() )"
   ]
  },
  {
   "cell_type": "markdown",
   "metadata": {},
   "source": [
    "## Aggregation<br>\n",
    "\n",
    "Has a relation; Both entity are independent;"
   ]
  },
  {
   "cell_type": "code",
   "execution_count": 71,
   "metadata": {},
   "outputs": [
    {
     "name": "stdout",
     "output_type": "stream",
     "text": [
      "600100\n"
     ]
    }
   ],
   "source": [
    "\n",
    "class Salary:\n",
    "    def __init__(self, pay,reward ):\n",
    "        self.pay = pay\n",
    "        self.reward = reward\n",
    "        \n",
    "    def annual_salary(self):\n",
    "            \n",
    "        return ( self.pay * 12 ) + self.reward\n",
    "    \n",
    "    \n",
    "class Employee:\n",
    "    def __init__(self, name, position, sal ):\n",
    "        self.name = name\n",
    "        self.position = position\n",
    "        self.final_salary = sal\n",
    "        \n",
    "    def final_salary_m(self): \n",
    "        return self.final_salary.annual_salary()\n",
    "    \n",
    "# Here, both entitys/object are independent each other;\n",
    "\n",
    "sal = Salary(50000, 100 )\n",
    "emp = Employee(\"Harsha\", \"Py Dev\", sal )\n",
    "\n",
    "print( emp.final_salary_m() )\n",
    "    \n",
    "    "
   ]
  },
  {
   "cell_type": "markdown",
   "metadata": {},
   "source": [
    "## Abstract Base Class and Abstract Method.\n",
    "\n"
   ]
  },
  {
   "cell_type": "code",
   "execution_count": 72,
   "metadata": {},
   "outputs": [],
   "source": [
    "\n",
    "class Shape:\n",
    "    def area(self):\n",
    "        pass\n",
    "    \n",
    "    def perimeter(self):\n",
    "        pass\n",
    "    \n",
    "    \n",
    "class Square( Shape ):\n",
    "    def __init__(self, side ):\n",
    "        self.__side = side\n",
    "        \n",
    "        \n",
    "##\n",
    "shape_obj = Shape()\n",
    "square_obj = Square(10)"
   ]
  },
  {
   "cell_type": "markdown",
   "metadata": {},
   "source": [
    "What do i have to do ?<br>\n",
    "## 1. I Don't want to allow use to create object of my Parent class.\n",
    "## 2. Method of Parent class should be implemented in sub-classes.\n",
    "\n",
    "ABC and abstract method comes."
   ]
  },
  {
   "cell_type": "code",
   "execution_count": 87,
   "metadata": {},
   "outputs": [
    {
     "ename": "TypeError",
     "evalue": "Can't instantiate abstract class Shape with abstract methods area, perimeter",
     "output_type": "error",
     "traceback": [
      "\u001b[1;31m---------------------------------------------------------------------------\u001b[0m",
      "\u001b[1;31mTypeError\u001b[0m                                 Traceback (most recent call last)",
      "\u001b[1;32m<ipython-input-87-c6cb688c2f8c>\u001b[0m in \u001b[0;36m<module>\u001b[1;34m\u001b[0m\n\u001b[0;32m     17\u001b[0m \u001b[1;33m\u001b[0m\u001b[0m\n\u001b[0;32m     18\u001b[0m \u001b[1;31m##\u001b[0m\u001b[1;33m\u001b[0m\u001b[1;33m\u001b[0m\u001b[1;33m\u001b[0m\u001b[0m\n\u001b[1;32m---> 19\u001b[1;33m \u001b[0mshape_obj\u001b[0m \u001b[1;33m=\u001b[0m \u001b[0mShape\u001b[0m\u001b[1;33m(\u001b[0m\u001b[1;33m)\u001b[0m \u001b[1;31m# cann't create an object for ABC\u001b[0m\u001b[1;33m\u001b[0m\u001b[1;33m\u001b[0m\u001b[0m\n\u001b[0m\u001b[0;32m     20\u001b[0m \u001b[0msquare_obj\u001b[0m \u001b[1;33m=\u001b[0m \u001b[0mSquare\u001b[0m\u001b[1;33m(\u001b[0m\u001b[1;36m10\u001b[0m\u001b[1;33m)\u001b[0m\u001b[1;33m\u001b[0m\u001b[1;33m\u001b[0m\u001b[0m\n",
      "\u001b[1;31mTypeError\u001b[0m: Can't instantiate abstract class Shape with abstract methods area, perimeter"
     ]
    }
   ],
   "source": [
    "from abc import ABC, abstractmethod\n",
    "\n",
    "class Shape(ABC):\n",
    "    @abstractmethod\n",
    "    def area(self):\n",
    "        pass\n",
    "    \n",
    "    @abstractmethod\n",
    "    def perimeter(self):\n",
    "        pass\n",
    "    \n",
    "    \n",
    "class Square( Shape ):\n",
    "    def __init__(self, side ):\n",
    "        self.__side = side\n",
    "        \n",
    "        \n",
    "##\n",
    "shape_obj = Shape() # cann't create an object for ABC\n",
    "square_obj = Square(10)"
   ]
  },
  {
   "cell_type": "code",
   "execution_count": 88,
   "metadata": {},
   "outputs": [
    {
     "name": "stdout",
     "output_type": "stream",
     "text": [
      "100\n"
     ]
    }
   ],
   "source": [
    "# Lets define area and perimeter in the child\n",
    "\n",
    "\n",
    "from abc import ABC, abstractmethod\n",
    "\n",
    "class Shape(ABC):\n",
    "    @abstractmethod\n",
    "    def area(self):\n",
    "        pass\n",
    "    \n",
    "    @abstractmethod\n",
    "    def perimeter(self):\n",
    "        pass\n",
    "    \n",
    "    \n",
    "class Square( Shape ):\n",
    "    def __init__(self, side ):\n",
    "        self.__side = side\n",
    "        \n",
    "    def area(self):\n",
    "        return self.__side * self.__side\n",
    "    \n",
    "    def perimeter(self):\n",
    "        return 4 * self.__side\n",
    "        \n",
    "        \n",
    "##\n",
    "#shape_obj = Shape()\n",
    "\n",
    "square_obj = Square(10)\n",
    "\n",
    "print( square_obj.area() )"
   ]
  },
  {
   "cell_type": "code",
   "execution_count": 89,
   "metadata": {},
   "outputs": [
    {
     "ename": "TypeError",
     "evalue": "Can't instantiate abstract class Shape with abstract methods area, perimeter",
     "output_type": "error",
     "traceback": [
      "\u001b[1;31m---------------------------------------------------------------------------\u001b[0m",
      "\u001b[1;31mTypeError\u001b[0m                                 Traceback (most recent call last)",
      "\u001b[1;32m<ipython-input-89-7b4162e47e60>\u001b[0m in \u001b[0;36m<module>\u001b[1;34m\u001b[0m\n\u001b[0;32m     22\u001b[0m \u001b[1;33m\u001b[0m\u001b[0m\n\u001b[0;32m     23\u001b[0m \u001b[1;31m##\u001b[0m\u001b[1;33m\u001b[0m\u001b[1;33m\u001b[0m\u001b[1;33m\u001b[0m\u001b[0m\n\u001b[1;32m---> 24\u001b[1;33m \u001b[0mshape_obj\u001b[0m \u001b[1;33m=\u001b[0m \u001b[0mShape\u001b[0m\u001b[1;33m(\u001b[0m\u001b[1;33m)\u001b[0m\u001b[1;33m\u001b[0m\u001b[1;33m\u001b[0m\u001b[0m\n\u001b[0m\u001b[0;32m     25\u001b[0m \u001b[1;33m\u001b[0m\u001b[0m\n\u001b[0;32m     26\u001b[0m \u001b[0msquare_obj\u001b[0m \u001b[1;33m=\u001b[0m \u001b[0mSquare\u001b[0m\u001b[1;33m(\u001b[0m\u001b[1;36m10\u001b[0m\u001b[1;33m)\u001b[0m\u001b[1;33m\u001b[0m\u001b[1;33m\u001b[0m\u001b[0m\n",
      "\u001b[1;31mTypeError\u001b[0m: Can't instantiate abstract class Shape with abstract methods area, perimeter"
     ]
    }
   ],
   "source": [
    "# Lets remove perimeter method in the class. Check \n",
    "\n",
    "from abc import ABC, abstractmethod\n",
    "\n",
    "class Shape( ABC ):\n",
    "    @abstractmethod\n",
    "    def area(self):\n",
    "        pass\n",
    "    \n",
    "    @abstractmethod\n",
    "    def perimeter(self):\n",
    "        pass\n",
    "    \n",
    "    \n",
    "class Square( Shape ):\n",
    "    def __init__(self, side ):\n",
    "        self.__side = side\n",
    "        \n",
    "    def area(self):\n",
    "        return self.__side * self.__side\n",
    "    \n",
    "        \n",
    "##\n",
    "shape_obj = Shape()\n",
    "\n",
    "square_obj = Square(10)\n",
    "\n",
    "print( square_obj.area() )"
   ]
  },
  {
   "cell_type": "markdown",
   "metadata": {},
   "source": [
    "## ERROR due to perimeter method not defined. Both Base methods should be defined in the Child class."
   ]
  },
  {
   "cell_type": "code",
   "execution_count": 91,
   "metadata": {},
   "outputs": [
    {
     "ename": "TypeError",
     "evalue": "Can't instantiate abstract class Shape with abstract methods area, perimeter",
     "output_type": "error",
     "traceback": [
      "\u001b[1;31m---------------------------------------------------------------------------\u001b[0m",
      "\u001b[1;31mTypeError\u001b[0m                                 Traceback (most recent call last)",
      "\u001b[1;32m<ipython-input-91-05d82bf7d089>\u001b[0m in \u001b[0;36m<module>\u001b[1;34m\u001b[0m\n\u001b[1;32m----> 1\u001b[1;33m \u001b[0ms\u001b[0m \u001b[1;33m=\u001b[0m \u001b[0mShape\u001b[0m\u001b[1;33m(\u001b[0m\u001b[1;33m)\u001b[0m \u001b[1;31m# cannot creare object due to ABC\u001b[0m\u001b[1;33m\u001b[0m\u001b[1;33m\u001b[0m\u001b[0m\n\u001b[0m",
      "\u001b[1;31mTypeError\u001b[0m: Can't instantiate abstract class Shape with abstract methods area, perimeter"
     ]
    }
   ],
   "source": [
    "s = Shape() # cannot creare object due to ABC"
   ]
  },
  {
   "cell_type": "markdown",
   "metadata": {},
   "source": [
    "## Difference between import and from "
   ]
  },
  {
   "cell_type": "code",
   "execution_count": 93,
   "metadata": {},
   "outputs": [
    {
     "name": "stdout",
     "output_type": "stream",
     "text": [
      "100\n"
     ]
    }
   ],
   "source": [
    "#from abc import ABC, abstractmethod\n",
    "\n",
    "# from abc import ABC, abstractmethod\n",
    "\n",
    "from abc import *\n",
    "\n",
    "class Shape(ABC):\n",
    "    @abstractmethod\n",
    "    def area(self):\n",
    "        pass\n",
    "    \n",
    "    @abstractmethod\n",
    "    def perimeter(self):\n",
    "        pass\n",
    "    \n",
    "    \n",
    "class Square( Shape ):\n",
    "    def __init__(self, side ):\n",
    "        self.__side = side\n",
    "        \n",
    "    def area(self):\n",
    "        return self.__side * self.__side\n",
    "    \n",
    "    def perimeter(self):\n",
    "        return 4 * self.__side\n",
    "        \n",
    "        \n",
    "##\n",
    "#shape_obj = Shape()\n",
    "\n",
    "square_obj = Square(10)\n",
    "\n",
    "print( square_obj.area() )"
   ]
  },
  {
   "cell_type": "markdown",
   "metadata": {},
   "source": [
    "## Operator Overloading"
   ]
  },
  {
   "cell_type": "code",
   "execution_count": 94,
   "metadata": {},
   "outputs": [
    {
     "name": "stdout",
     "output_type": "stream",
     "text": [
      "30\n"
     ]
    }
   ],
   "source": [
    "a = 10\n",
    "\n",
    "b = 20\n",
    "\n",
    "print(a + b)"
   ]
  },
  {
   "cell_type": "code",
   "execution_count": 95,
   "metadata": {},
   "outputs": [
    {
     "data": {
      "text/plain": [
       "'HelloWorld'"
      ]
     },
     "execution_count": 95,
     "metadata": {},
     "output_type": "execute_result"
    }
   ],
   "source": [
    "p = \"Hello\"\n",
    "q = \"World\"\n",
    "\n",
    "p + q"
   ]
  },
  {
   "cell_type": "code",
   "execution_count": 96,
   "metadata": {},
   "outputs": [],
   "source": [
    "# how to add two objects?\n",
    "\n",
    "\n",
    "class Books:\n",
    "    def __init__(self, pages ):\n",
    "        self.pages = pages\n",
    "        \n",
    "    \n",
    "b1 = Books(100)\n",
    "b2 = Books(150 )"
   ]
  },
  {
   "cell_type": "code",
   "execution_count": 98,
   "metadata": {},
   "outputs": [
    {
     "ename": "TypeError",
     "evalue": "unsupported operand type(s) for +: 'Books' and 'Books'",
     "output_type": "error",
     "traceback": [
      "\u001b[1;31m---------------------------------------------------------------------------\u001b[0m",
      "\u001b[1;31mTypeError\u001b[0m                                 Traceback (most recent call last)",
      "\u001b[1;32m<ipython-input-98-bd63acd77007>\u001b[0m in \u001b[0;36m<module>\u001b[1;34m\u001b[0m\n\u001b[1;32m----> 1\u001b[1;33m \u001b[0mb1\u001b[0m \u001b[1;33m+\u001b[0m \u001b[0mb2\u001b[0m \u001b[1;31m# how + works ? a.__add__(b)\u001b[0m\u001b[1;33m\u001b[0m\u001b[1;33m\u001b[0m\u001b[0m\n\u001b[0m",
      "\u001b[1;31mTypeError\u001b[0m: unsupported operand type(s) for +: 'Books' and 'Books'"
     ]
    }
   ],
   "source": [
    "b1 + b2 # how + works ? a.__add__(b)"
   ]
  },
  {
   "cell_type": "code",
   "execution_count": 100,
   "metadata": {},
   "outputs": [
    {
     "data": {
      "text/plain": [
       "250"
      ]
     },
     "execution_count": 100,
     "metadata": {},
     "output_type": "execute_result"
    }
   ],
   "source": [
    "class Books:\n",
    "    def __init__(self, pages ):\n",
    "        self.pages = pages\n",
    "        \n",
    "    def __add__(self, other):\n",
    "        return self.pages + other.pages\n",
    "        \n",
    "    \n",
    "b1 = Books(100)\n",
    "b2 = Books(150 )\n",
    "\n",
    "b1 + b2"
   ]
  },
  {
   "cell_type": "markdown",
   "metadata": {},
   "source": [
    "## Errors(Bugs) and Exceptions<br>\n",
    "\n",
    "3 types:<br>\n",
    "- Compiled.<br>\n",
    "- Run-Time Error<br>\n",
    "- Logical Error<br>\n"
   ]
  },
  {
   "cell_type": "code",
   "execution_count": 101,
   "metadata": {},
   "outputs": [
    {
     "ename": "IndentationError",
     "evalue": "expected an indented block (<ipython-input-101-c6eb8db200a7>, line 6)",
     "output_type": "error",
     "traceback": [
      "\u001b[1;36m  File \u001b[1;32m\"<ipython-input-101-c6eb8db200a7>\"\u001b[1;36m, line \u001b[1;32m6\u001b[0m\n\u001b[1;33m    print(\"hi\")\u001b[0m\n\u001b[1;37m    ^\u001b[0m\n\u001b[1;31mIndentationError\u001b[0m\u001b[1;31m:\u001b[0m expected an indented block\n"
     ]
    }
   ],
   "source": [
    "# Compiled\n",
    "\n",
    "name = \"py\"\n",
    "\n",
    "if name:\n",
    "print(\"hi\")"
   ]
  },
  {
   "cell_type": "markdown",
   "metadata": {},
   "source": [
    "## A runtime error is generated while program is running and program leads to crashes.<br>\n",
    " for example: <br>\n",
    "     - lack of memory;<br>\n",
    "    - trying to open a file that was not created.<br>\n",
    "    - division to 0<br>\n"
   ]
  },
  {
   "cell_type": "code",
   "execution_count": 102,
   "metadata": {},
   "outputs": [
    {
     "ename": "ZeroDivisionError",
     "evalue": "division by zero",
     "output_type": "error",
     "traceback": [
      "\u001b[1;31m---------------------------------------------------------------------------\u001b[0m",
      "\u001b[1;31mZeroDivisionError\u001b[0m                         Traceback (most recent call last)",
      "\u001b[1;32m<ipython-input-102-9e1622b385b6>\u001b[0m in \u001b[0;36m<module>\u001b[1;34m\u001b[0m\n\u001b[1;32m----> 1\u001b[1;33m \u001b[1;36m1\u001b[0m\u001b[1;33m/\u001b[0m\u001b[1;36m0\u001b[0m\u001b[1;33m\u001b[0m\u001b[1;33m\u001b[0m\u001b[0m\n\u001b[0m",
      "\u001b[1;31mZeroDivisionError\u001b[0m: division by zero"
     ]
    }
   ],
   "source": [
    "1/0"
   ]
  },
  {
   "cell_type": "code",
   "execution_count": 103,
   "metadata": {},
   "outputs": [
    {
     "ename": "TypeError",
     "evalue": "can only concatenate str (not \"int\") to str",
     "output_type": "error",
     "traceback": [
      "\u001b[1;31m---------------------------------------------------------------------------\u001b[0m",
      "\u001b[1;31mTypeError\u001b[0m                                 Traceback (most recent call last)",
      "\u001b[1;32m<ipython-input-103-076d4fba1eac>\u001b[0m in \u001b[0;36m<module>\u001b[1;34m\u001b[0m\n\u001b[1;32m----> 1\u001b[1;33m \u001b[1;34m'a'\u001b[0m \u001b[1;33m+\u001b[0m \u001b[1;36m1\u001b[0m\u001b[1;33m\u001b[0m\u001b[1;33m\u001b[0m\u001b[0m\n\u001b[0m",
      "\u001b[1;31mTypeError\u001b[0m: can only concatenate str (not \"int\") to str"
     ]
    }
   ],
   "source": [
    "'a' + 1"
   ]
  },
  {
   "cell_type": "code",
   "execution_count": 104,
   "metadata": {},
   "outputs": [
    {
     "name": "stdout",
     "output_type": "stream",
     "text": [
      "Incremented Salary:200.0\n"
     ]
    }
   ],
   "source": [
    "# Logical Error due to logic mistake in the code.\n",
    "\n",
    "# example, Increment salary: current + 20%\n",
    "\n",
    "def inc(sal):\n",
    "    sal = sal * 20 / 100\n",
    "    return sal\n",
    "\n",
    "sal = inc(1000)\n",
    "print(f\"Incremented Salary:{sal}\")\n",
    "    "
   ]
  },
  {
   "cell_type": "markdown",
   "metadata": {},
   "source": [
    "### Exception: is run-time error;"
   ]
  },
  {
   "cell_type": "code",
   "execution_count": 105,
   "metadata": {},
   "outputs": [
    {
     "ename": "ZeroDivisionError",
     "evalue": "division by zero",
     "output_type": "error",
     "traceback": [
      "\u001b[1;31m---------------------------------------------------------------------------\u001b[0m",
      "\u001b[1;31mZeroDivisionError\u001b[0m                         Traceback (most recent call last)",
      "\u001b[1;32m<ipython-input-105-9e1622b385b6>\u001b[0m in \u001b[0;36m<module>\u001b[1;34m\u001b[0m\n\u001b[1;32m----> 1\u001b[1;33m \u001b[1;36m1\u001b[0m\u001b[1;33m/\u001b[0m\u001b[1;36m0\u001b[0m\u001b[1;33m\u001b[0m\u001b[1;33m\u001b[0m\u001b[0m\n\u001b[0m",
      "\u001b[1;31mZeroDivisionError\u001b[0m: division by zero"
     ]
    }
   ],
   "source": [
    "1/0"
   ]
  },
  {
   "cell_type": "code",
   "execution_count": 106,
   "metadata": {},
   "outputs": [
    {
     "ename": "NameError",
     "evalue": "name 'builtins' is not defined",
     "output_type": "error",
     "traceback": [
      "\u001b[1;31m---------------------------------------------------------------------------\u001b[0m",
      "\u001b[1;31mNameError\u001b[0m                                 Traceback (most recent call last)",
      "\u001b[1;32m<ipython-input-106-e64d8cb79bbc>\u001b[0m in \u001b[0;36m<module>\u001b[1;34m\u001b[0m\n\u001b[1;32m----> 1\u001b[1;33m \u001b[0mhelp\u001b[0m\u001b[1;33m(\u001b[0m\u001b[0mbuiltins\u001b[0m\u001b[1;33m)\u001b[0m\u001b[1;33m\u001b[0m\u001b[1;33m\u001b[0m\u001b[0m\n\u001b[0m",
      "\u001b[1;31mNameError\u001b[0m: name 'builtins' is not defined"
     ]
    }
   ],
   "source": [
    "help(builtins)"
   ]
  },
  {
   "cell_type": "code",
   "execution_count": 129,
   "metadata": {},
   "outputs": [],
   "source": [
    "import builtins\n",
    "#help(builtins)"
   ]
  },
  {
   "cell_type": "markdown",
   "metadata": {},
   "source": [
    "## Handling Exceptions"
   ]
  },
  {
   "cell_type": "code",
   "execution_count": 108,
   "metadata": {},
   "outputs": [
    {
     "name": "stdout",
     "output_type": "stream",
     "text": [
      "Number1:1\n",
      "Number2:2\n",
      "Inside Type error \n"
     ]
    }
   ],
   "source": [
    "\n",
    "x = input(\"Number1:\")\n",
    "\n",
    "y = input(\"Number2:\")\n",
    "\n",
    "try:\n",
    "    result = x / y\n",
    "    \n",
    "except TypeError as e:\n",
    "    print(\"Inside Type error \")"
   ]
  },
  {
   "cell_type": "markdown",
   "metadata": {},
   "source": [
    "## Why Error ? due to str by default"
   ]
  },
  {
   "cell_type": "code",
   "execution_count": 109,
   "metadata": {},
   "outputs": [
    {
     "name": "stdout",
     "output_type": "stream",
     "text": [
      "Number1:2\n",
      "Number2:2\n"
     ]
    }
   ],
   "source": [
    "x = int( input(\"Number1:\") )\n",
    "\n",
    "y = int( input(\"Number2:\") )\n",
    "\n",
    "try:\n",
    "    result = x / y\n",
    "    \n",
    "except TypeError as e:\n",
    "    print(\"Inside Type error \")"
   ]
  },
  {
   "cell_type": "markdown",
   "metadata": {},
   "source": [
    "## user defined Exception"
   ]
  },
  {
   "cell_type": "code",
   "execution_count": 114,
   "metadata": {},
   "outputs": [],
   "source": [
    "\n",
    "class TeaHotException(Exception):\n",
    "    def __init__(self, arg):\n",
    "        self.msg = arg\n",
    "        \n",
    "class TeaHotException(Exception):\n",
    "    def __init__(self, arg ):\n",
    "        self.msg = arg\n",
    "\n",
    "class Tea:\n",
    "    def __init__(self, temp ):\n",
    "        self.__temp = temp\n",
    "        \n",
    "    def drink_tea(self):\n",
    "        if self.__temp > 85:\n",
    "            raise TeaHotException(\"Tea Too Hot\")\n",
    "        elif self.__temp < 65:\n",
    "            raise TeaHotException(\"Tea Too Cold\")\n",
    "            "
   ]
  },
  {
   "cell_type": "code",
   "execution_count": 115,
   "metadata": {},
   "outputs": [
    {
     "ename": "TeaHotException",
     "evalue": "Tea Too Cold",
     "output_type": "error",
     "traceback": [
      "\u001b[1;31m---------------------------------------------------------------------------\u001b[0m",
      "\u001b[1;31mTeaHotException\u001b[0m                           Traceback (most recent call last)",
      "\u001b[1;32m<ipython-input-115-05b4a3fc36c2>\u001b[0m in \u001b[0;36m<module>\u001b[1;34m\u001b[0m\n\u001b[0;32m      1\u001b[0m \u001b[0mcup\u001b[0m \u001b[1;33m=\u001b[0m \u001b[0mTea\u001b[0m\u001b[1;33m(\u001b[0m\u001b[1;36m50\u001b[0m\u001b[1;33m)\u001b[0m\u001b[1;33m\u001b[0m\u001b[1;33m\u001b[0m\u001b[0m\n\u001b[1;32m----> 2\u001b[1;33m \u001b[0mcup\u001b[0m\u001b[1;33m.\u001b[0m\u001b[0mdrink_tea\u001b[0m\u001b[1;33m(\u001b[0m\u001b[1;33m)\u001b[0m\u001b[1;33m\u001b[0m\u001b[1;33m\u001b[0m\u001b[0m\n\u001b[0m",
      "\u001b[1;32m<ipython-input-114-4f345ca0d0f2>\u001b[0m in \u001b[0;36mdrink_tea\u001b[1;34m(self)\u001b[0m\n\u001b[0;32m     15\u001b[0m             \u001b[1;32mraise\u001b[0m \u001b[0mTeaHotException\u001b[0m\u001b[1;33m(\u001b[0m\u001b[1;34m\"Tea Too Hot\"\u001b[0m\u001b[1;33m)\u001b[0m\u001b[1;33m\u001b[0m\u001b[1;33m\u001b[0m\u001b[0m\n\u001b[0;32m     16\u001b[0m         \u001b[1;32melif\u001b[0m \u001b[0mself\u001b[0m\u001b[1;33m.\u001b[0m\u001b[0m__temp\u001b[0m \u001b[1;33m<\u001b[0m \u001b[1;36m65\u001b[0m\u001b[1;33m:\u001b[0m\u001b[1;33m\u001b[0m\u001b[1;33m\u001b[0m\u001b[0m\n\u001b[1;32m---> 17\u001b[1;33m             \u001b[1;32mraise\u001b[0m \u001b[0mTeaHotException\u001b[0m\u001b[1;33m(\u001b[0m\u001b[1;34m\"Tea Too Cold\"\u001b[0m\u001b[1;33m)\u001b[0m\u001b[1;33m\u001b[0m\u001b[1;33m\u001b[0m\u001b[0m\n\u001b[0m\u001b[0;32m     18\u001b[0m \u001b[1;33m\u001b[0m\u001b[0m\n",
      "\u001b[1;31mTeaHotException\u001b[0m: Tea Too Cold"
     ]
    }
   ],
   "source": [
    "cup = Tea(50)\n",
    "cup.drink_tea()"
   ]
  },
  {
   "cell_type": "code",
   "execution_count": 116,
   "metadata": {},
   "outputs": [],
   "source": [
    "## what is __name__ == \"__main__\" ?"
   ]
  },
  {
   "cell_type": "code",
   "execution_count": 117,
   "metadata": {},
   "outputs": [
    {
     "data": {
      "text/plain": [
       "'__main__'"
      ]
     },
     "execution_count": 117,
     "metadata": {},
     "output_type": "execute_result"
    }
   ],
   "source": [
    "__name__"
   ]
  },
  {
   "cell_type": "code",
   "execution_count": 120,
   "metadata": {},
   "outputs": [],
   "source": [
    "# help( __name__)"
   ]
  },
  {
   "cell_type": "code",
   "execution_count": 121,
   "metadata": {},
   "outputs": [
    {
     "name": "stdout",
     "output_type": "stream",
     "text": [
      "Overwriting mymath.py\n"
     ]
    }
   ],
   "source": [
    "%%writefile mymath.py\n",
    "\n",
    "def add(x, y):\n",
    "    return x + y\n",
    "\n",
    "print( __name__ )"
   ]
  },
  {
   "cell_type": "code",
   "execution_count": 122,
   "metadata": {},
   "outputs": [
    {
     "name": "stdout",
     "output_type": "stream",
     "text": [
      "__main__\n"
     ]
    }
   ],
   "source": [
    "! python mymath.py"
   ]
  },
  {
   "cell_type": "markdown",
   "metadata": {},
   "source": [
    "### By default name is main function. "
   ]
  },
  {
   "cell_type": "code",
   "execution_count": 123,
   "metadata": {},
   "outputs": [
    {
     "name": "stdout",
     "output_type": "stream",
     "text": [
      "Writing script.py\n"
     ]
    }
   ],
   "source": [
    "%%writefile script.py\n",
    "\n",
    "import mymath\n",
    "\n",
    "print( __name__ )"
   ]
  },
  {
   "cell_type": "code",
   "execution_count": 124,
   "metadata": {},
   "outputs": [
    {
     "name": "stdout",
     "output_type": "stream",
     "text": [
      "mymath\n",
      "__main__\n"
     ]
    }
   ],
   "source": [
    "! python script.py"
   ]
  },
  {
   "cell_type": "markdown",
   "metadata": {},
   "source": [
    "### Here, mymath is filename and name is default main of the current file."
   ]
  },
  {
   "cell_type": "code",
   "execution_count": 127,
   "metadata": {},
   "outputs": [
    {
     "name": "stdout",
     "output_type": "stream",
     "text": [
      "Overwriting script.py\n"
     ]
    }
   ],
   "source": [
    "%%writefile script.py\n",
    "\n",
    "import mymath\n",
    "\n",
    "print( __name__ )\n",
    "\n",
    "if __name__ == \"__main__\":\n",
    "    print( mymath.add(10, 20 ))"
   ]
  },
  {
   "cell_type": "code",
   "execution_count": 128,
   "metadata": {},
   "outputs": [
    {
     "name": "stdout",
     "output_type": "stream",
     "text": [
      "mymath\n",
      "__main__\n",
      "30\n"
     ]
    }
   ],
   "source": [
    "! python script.py"
   ]
  },
  {
   "cell_type": "code",
   "execution_count": null,
   "metadata": {},
   "outputs": [],
   "source": []
  }
 ],
 "metadata": {
  "kernelspec": {
   "display_name": "Python 3",
   "language": "python",
   "name": "python3"
  },
  "language_info": {
   "codemirror_mode": {
    "name": "ipython",
    "version": 3
   },
   "file_extension": ".py",
   "mimetype": "text/x-python",
   "name": "python",
   "nbconvert_exporter": "python",
   "pygments_lexer": "ipython3",
   "version": "3.8.3"
  }
 },
 "nbformat": 4,
 "nbformat_minor": 4
}
